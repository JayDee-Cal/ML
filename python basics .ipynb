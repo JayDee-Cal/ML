{
 "cells": [
  {
   "cell_type": "code",
   "execution_count": 2,
   "metadata": {},
   "outputs": [
    {
     "data": {
      "text/plain": [
       "'C:\\\\Users\\\\Jaideep Singh\\\\Desktop\\\\Neuron'"
      ]
     },
     "execution_count": 2,
     "metadata": {},
     "output_type": "execute_result"
    }
   ],
   "source": [
    "#File location\n",
    "pwd()"
   ]
  },
  {
   "cell_type": "code",
   "execution_count": 2,
   "metadata": {},
   "outputs": [
    {
     "name": "stdout",
     "output_type": "stream",
     "text": [
      "Sum of Even number = 24\n",
      "Sum of odd numbers = 28\n"
     ]
    }
   ],
   "source": [
    "lst =[1,3,4,6,7,8,9,2,3,4,5]\n",
    "\n",
    "even=0\n",
    "odd= 0\n",
    "for i in lst:\n",
    "    if (i%2 ==0):\n",
    "        even = even + i\n",
    "    else:\n",
    "        odd = odd + i\n",
    "        \n",
    "print(\"Sum of Even number =\", even)\n",
    "print(\"Sum of odd numbers =\", odd)\n"
   ]
  },
  {
   "cell_type": "code",
   "execution_count": 2,
   "metadata": {},
   "outputs": [
    {
     "name": "stdout",
     "output_type": "stream",
     "text": [
      "We found the number\n",
      "38\n"
     ]
    }
   ],
   "source": [
    "#if and else\n",
    "\n",
    "lsst =[1,3,4,6,7,8,9,2,3,4,5,11]\n",
    "sum1 = 0\n",
    "for i in lsst:\n",
    "    if i == 2:\n",
    "        print('We found the number')\n",
    "        break\n",
    "    sum1 = sum1 + i\n",
    "else:    \n",
    "    print('Not found any number mentioned above')\n",
    "print(sum1)\n"
   ]
  },
  {
   "cell_type": "code",
   "execution_count": 30,
   "metadata": {},
   "outputs": [
    {
     "name": "stdout",
     "output_type": "stream",
     "text": [
      "Sum of Odds = 17\n",
      "Sum of evens = 12\n"
     ]
    }
   ],
   "source": [
    "# for condition along with if and break\n",
    "\n",
    "list = [1,3,4,5,6,2,7,1]\n",
    "even = 0\n",
    "odd = 0\n",
    "for i in list:\n",
    "    if i%2 ==0:\n",
    "        even = even + i\n",
    "        if even > 20:\n",
    "            break\n",
    "            \n",
    "    else:\n",
    "        odd = odd + i\n",
    "        if odd > 45:\n",
    "            break\n",
    "    \n",
    "else:\n",
    "    print('Sum of Odds =', odd)\n",
    "    print('Sum of evens =', even)"
   ]
  },
  {
   "cell_type": "code",
   "execution_count": 23,
   "metadata": {},
   "outputs": [
    {
     "data": {
      "text/plain": [
       "10"
      ]
     },
     "execution_count": 23,
     "metadata": {},
     "output_type": "execute_result"
    }
   ],
   "source": [
    "len(range(0,50,5))"
   ]
  },
  {
   "cell_type": "code",
   "execution_count": 10,
   "metadata": {},
   "outputs": [
    {
     "data": {
      "text/plain": [
       "'Jaideep Singh Kalsi'"
      ]
     },
     "execution_count": 10,
     "metadata": {},
     "output_type": "execute_result"
    }
   ],
   "source": [
    "s = 'Jaideep Singh Kalsi'\n",
    "s"
   ]
  },
  {
   "cell_type": "code",
   "execution_count": 11,
   "metadata": {},
   "outputs": [
    {
     "data": {
      "text/plain": [
       "'ilKhnSpeiJ'"
      ]
     },
     "execution_count": 11,
     "metadata": {},
     "output_type": "execute_result"
    }
   ],
   "source": [
    "s[::-2]"
   ]
  },
  {
   "cell_type": "code",
   "execution_count": 12,
   "metadata": {},
   "outputs": [
    {
     "data": {
      "text/plain": [
       "'Jai'"
      ]
     },
     "execution_count": 12,
     "metadata": {},
     "output_type": "execute_result"
    }
   ],
   "source": [
    "s[:3]"
   ]
  },
  {
   "cell_type": "code",
   "execution_count": 13,
   "metadata": {},
   "outputs": [
    {
     "data": {
      "text/plain": [
       "'JAIDEEP SINGH KALSI'"
      ]
     },
     "execution_count": 13,
     "metadata": {},
     "output_type": "execute_result"
    }
   ],
   "source": [
    "s.upper()"
   ]
  },
  {
   "cell_type": "code",
   "execution_count": 14,
   "metadata": {},
   "outputs": [
    {
     "data": {
      "text/plain": [
       "'jaideep singh kalsi'"
      ]
     },
     "execution_count": 14,
     "metadata": {},
     "output_type": "execute_result"
    }
   ],
   "source": [
    "s.lower()"
   ]
  },
  {
   "cell_type": "code",
   "execution_count": 15,
   "metadata": {},
   "outputs": [
    {
     "data": {
      "text/plain": [
       "['Jaideep', 'Singh', 'Kalsi']"
      ]
     },
     "execution_count": 15,
     "metadata": {},
     "output_type": "execute_result"
    }
   ],
   "source": [
    "s.split()"
   ]
  },
  {
   "cell_type": "code",
   "execution_count": 16,
   "metadata": {},
   "outputs": [
    {
     "data": {
      "text/plain": [
       "'Hello buddy, wassup'"
      ]
     },
     "execution_count": 16,
     "metadata": {},
     "output_type": "execute_result"
    }
   ],
   "source": [
    "j = 'Hello buddy, wassup'\n",
    "j"
   ]
  },
  {
   "cell_type": "code",
   "execution_count": 17,
   "metadata": {},
   "outputs": [
    {
     "data": {
      "text/plain": [
       "['Hello ', ', wassup']"
      ]
     },
     "execution_count": 17,
     "metadata": {},
     "output_type": "execute_result"
    }
   ],
   "source": [
    "j.split(sep='buddy')"
   ]
  },
  {
   "cell_type": "code",
   "execution_count": 18,
   "metadata": {},
   "outputs": [
    {
     "data": {
      "text/plain": [
       "'######Jaideep Singh Kalsi######'"
      ]
     },
     "execution_count": 18,
     "metadata": {},
     "output_type": "execute_result"
    }
   ],
   "source": [
    "s.center(31,'#')"
   ]
  },
  {
   "cell_type": "code",
   "execution_count": 25,
   "metadata": {},
   "outputs": [
    {
     "data": {
      "text/plain": [
       "2"
      ]
     },
     "execution_count": 25,
     "metadata": {},
     "output_type": "execute_result"
    }
   ],
   "source": [
    "5//2"
   ]
  },
  {
   "cell_type": "code",
   "execution_count": 3,
   "metadata": {},
   "outputs": [
    {
     "data": {
      "text/plain": [
       "1"
      ]
     },
     "execution_count": 3,
     "metadata": {},
     "output_type": "execute_result"
    }
   ],
   "source": [
    "5%2"
   ]
  },
  {
   "cell_type": "code",
   "execution_count": 6,
   "metadata": {},
   "outputs": [
    {
     "name": "stdout",
     "output_type": "stream",
     "text": [
      "Enter your first name please Jai\n",
      "Enter your last name please Deep\n",
      "Ok your first name is Jai and last name is Deep\n"
     ]
    }
   ],
   "source": [
    "#First name and LAst name\n",
    "\n",
    "fname = input(\"Enter your first name please \")\n",
    "lname = input(\"Enter your last name please \")\n",
    "print(\"Ok your first name is {f1} and last name is {f2}\".format(f2=lname, f1=fname))"
   ]
  },
  {
   "cell_type": "code",
   "execution_count": 4,
   "metadata": {},
   "outputs": [
    {
     "name": "stdout",
     "output_type": "stream",
     "text": [
      "Enter first value 36.21\n",
      "Enter seconnd one 3.14\n",
      "\n",
      "Sum is 39.35\n"
     ]
    }
   ],
   "source": [
    "a =float(input('Enter first value '))\n",
    "b =float(input('Enter seconnd one '))\n",
    "c = a + b\n",
    "print(\"\\nSum is\",c)"
   ]
  },
  {
   "cell_type": "code",
   "execution_count": null,
   "metadata": {},
   "outputs": [],
   "source": []
  }
 ],
 "metadata": {
  "kernelspec": {
   "display_name": "Python 3",
   "language": "python",
   "name": "python3"
  },
  "language_info": {
   "codemirror_mode": {
    "name": "ipython",
    "version": 3
   },
   "file_extension": ".py",
   "mimetype": "text/x-python",
   "name": "python",
   "nbconvert_exporter": "python",
   "pygments_lexer": "ipython3",
   "version": "3.7.6"
  }
 },
 "nbformat": 4,
 "nbformat_minor": 4
}
